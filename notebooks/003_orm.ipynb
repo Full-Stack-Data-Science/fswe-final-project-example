{
 "cells": [
  {
   "cell_type": "code",
   "execution_count": 1,
   "id": "2c6811db",
   "metadata": {},
   "outputs": [],
   "source": [
    "from sqlalchemy import Column, Float, Integer, String\n",
    "from sqlalchemy.orm import declarative_base, sessionmaker\n",
    "\n",
    "from fswe_demo.infra.db.get_conn import get_db_connection"
   ]
  },
  {
   "cell_type": "code",
   "execution_count": 2,
   "id": "0853b0e7",
   "metadata": {},
   "outputs": [],
   "source": [
    "engine = get_db_connection()\n",
    "Base = declarative_base()"
   ]
  },
  {
   "cell_type": "code",
   "execution_count": 3,
   "id": "3c0dbf3d",
   "metadata": {},
   "outputs": [],
   "source": [
    "class PopularItem(Base):\n",
    "    __tablename__ = \"popular_items\"\n",
    "\n",
    "    product_asin = Column(String, primary_key=True, index=True)\n",
    "    size = Column(Integer, nullable=False)\n",
    "    prob = Column(Float, nullable=False)"
   ]
  },
  {
   "cell_type": "code",
   "execution_count": 4,
   "id": "197f438c",
   "metadata": {},
   "outputs": [],
   "source": [
    "# Create a Session\n",
    "SessionLocal = sessionmaker(bind=engine, autoflush=False, autocommit=False)\n",
    "session = SessionLocal()"
   ]
  },
  {
   "cell_type": "code",
   "execution_count": 5,
   "id": "b455d3e3",
   "metadata": {},
   "outputs": [
    {
     "name": "stdout",
     "output_type": "stream",
     "text": [
      "ASIN: B01K8B8YA8, Size: 934, Probability: 0.043992275446281384\n",
      "ASIN: B075X8471B, Size: 862, Probability: 0.0406010079600584\n",
      "ASIN: B010BWYDYA, Size: 597, Probability: 0.02811925957326551\n",
      "ASIN: B011BRUOMO, Size: 586, Probability: 0.02760114926287033\n",
      "ASIN: B07S764D9V, Size: 544, Probability: 0.025622909895906928\n",
      "ASIN: B07GZFM1ZM, Size: 470, Probability: 0.02213744053506665\n",
      "ASIN: B0BGNG1294, Size: 433, Probability: 0.02039470585464651\n",
      "ASIN: B008J0Z9TA, Size: 384, Probability: 0.018086759926522537\n",
      "ASIN: B083TH1B45, Size: 355, Probability: 0.016720832744571618\n",
      "ASIN: B07P9V8GSH, Size: 333, Probability: 0.015684612123781264\n",
      "ASIN: B00U3FPN4U, Size: 292, Probability: 0.013753473694126514\n",
      "ASIN: B01MTF2Z37, Size: 286, Probability: 0.013470868070274599\n",
      "ASIN: B0791TX5P5, Size: 282, Probability: 0.013282464321039989\n",
      "ASIN: B0BW4PFM58, Size: 273, Probability: 0.012858555885262116\n",
      "ASIN: B000WYVBR0, Size: 266, Probability: 0.01252884932410155\n",
      "ASIN: B00JO6RO8C, Size: 259, Probability: 0.012199142762940983\n",
      "ASIN: B00CX5P8FC, Size: 259, Probability: 0.012199142762940983\n",
      "ASIN: B0BN74ZJDK, Size: 254, Probability: 0.01196363807639772\n",
      "ASIN: B07KTYJ769, Size: 254, Probability: 0.01196363807639772\n",
      "ASIN: B07456BG8N, Size: 246, Probability: 0.011586830577928501\n",
      "ASIN: B07454F4JH, Size: 243, Probability: 0.011445527766002543\n",
      "ASIN: B00BWF5U0M, Size: 239, Probability: 0.011257124016767933\n",
      "ASIN: B0BS2ZMHCL, Size: 229, Probability: 0.01078611464368141\n",
      "ASIN: B00PFQPX5Q, Size: 227, Probability: 0.010691912769064104\n",
      "ASIN: B003NR57BY, Size: 223, Probability: 0.010503509019829495\n",
      "ASIN: B00L0YLRUW, Size: 221, Probability: 0.010409307145212189\n",
      "ASIN: B0043T7FXE, Size: 213, Probability: 0.01003249964674297\n",
      "ASIN: B00EHFJGW2, Size: 210, Probability: 0.009891196834817012\n",
      "ASIN: B00IVPU786, Size: 208, Probability: 0.009796994960199708\n",
      "ASIN: B071R715MZ, Size: 207, Probability: 0.009749894022891056\n",
      "ASIN: B0BSF17PM2, Size: 204, Probability: 0.009608591210965097\n",
      "ASIN: B00HEEOQBO, Size: 204, Probability: 0.009608591210965097\n",
      "ASIN: B00FB50S0Q, Size: 201, Probability: 0.009467288399039141\n",
      "ASIN: B07HZLHPKP, Size: 200, Probability: 0.009420187461730489\n",
      "ASIN: B08KZ1TZYB, Size: 200, Probability: 0.009420187461730489\n",
      "ASIN: B06ZZCZS7R, Size: 198, Probability: 0.009325985587113183\n",
      "ASIN: B08RLW7918, Size: 191, Probability: 0.008996279025952616\n",
      "ASIN: B07H65KP63, Size: 190, Probability: 0.008949178088643964\n",
      "ASIN: B08CLNX58K, Size: 189, Probability: 0.008902077151335312\n",
      "ASIN: B00AJHDZSI, Size: 188, Probability: 0.00885497621402666\n",
      "ASIN: B00FB50SBU, Size: 182, Probability: 0.008572370590174745\n",
      "ASIN: B00IVPU7AO, Size: 182, Probability: 0.008572370590174745\n",
      "ASIN: B07P374FF3, Size: 182, Probability: 0.008572370590174745\n",
      "ASIN: B01I4TE612, Size: 181, Probability: 0.008525269652866091\n",
      "ASIN: B075JZNHTD, Size: 181, Probability: 0.008525269652866091\n",
      "ASIN: B0BV93KQZR, Size: 180, Probability: 0.00847816871555744\n",
      "ASIN: B00OQVZDJM, Size: 180, Probability: 0.00847816871555744\n",
      "ASIN: B08KG14KCT, Size: 176, Probability: 0.00828976496632283\n",
      "ASIN: B09TWVB2TH, Size: 173, Probability: 0.008148462154396872\n",
      "ASIN: B00N2ZDXW2, Size: 170, Probability: 0.008007159342470916\n",
      "ASIN: B07WMB4XS4, Size: 168, Probability: 0.00791295746785361\n",
      "ASIN: B0052SCU8U, Size: 167, Probability: 0.007865856530544958\n",
      "ASIN: B0BB6Y5N3M, Size: 165, Probability: 0.007771654655927653\n",
      "ASIN: B075KP9XHS, Size: 164, Probability: 0.0077245537186190006\n",
      "ASIN: B09Z3BM734, Size: 162, Probability: 0.007630351844001695\n",
      "ASIN: B006JH8T3S, Size: 161, Probability: 0.007583250906693043\n",
      "ASIN: B00TS6JL4S, Size: 160, Probability: 0.007536149969384391\n",
      "ASIN: B09SXP5VB5, Size: 160, Probability: 0.007536149969384391\n",
      "ASIN: B00OBRE5UE, Size: 159, Probability: 0.007489049032075738\n",
      "ASIN: B08SCF2HC2, Size: 158, Probability: 0.007441948094767086\n",
      "ASIN: B01N75TWSA, Size: 158, Probability: 0.007441948094767086\n",
      "ASIN: B0BMQJYLQV, Size: 155, Probability: 0.007300645282841129\n",
      "ASIN: B0BXYXD1Q2, Size: 153, Probability: 0.0072064434082238235\n",
      "ASIN: B0051VVOB2, Size: 152, Probability: 0.007159342470915171\n",
      "ASIN: B004XC6GJ0, Size: 151, Probability: 0.007112241533606518\n",
      "ASIN: B001FWYGJS, Size: 150, Probability: 0.007065140596297866\n",
      "ASIN: B07F4P3JH7, Size: 150, Probability: 0.007065140596297866\n",
      "ASIN: B00OAJ412U, Size: 149, Probability: 0.007018039658989214\n",
      "ASIN: B009RUZ7TS, Size: 149, Probability: 0.007018039658989214\n",
      "ASIN: B003MTTJOY, Size: 149, Probability: 0.007018039658989214\n",
      "ASIN: B00UVSJU4S, Size: 147, Probability: 0.006923837784371909\n",
      "ASIN: B00DS4G2AW, Size: 146, Probability: 0.006876736847063257\n",
      "ASIN: B07PHQ93TV, Size: 144, Probability: 0.006782534972445952\n",
      "ASIN: B0C2P7CNWG, Size: 142, Probability: 0.0066883330978286465\n",
      "ASIN: B0C8633DBV, Size: 140, Probability: 0.006594131223211342\n",
      "ASIN: B01KIOU4EO, Size: 140, Probability: 0.006594131223211342\n",
      "ASIN: B07NRBL8CM, Size: 140, Probability: 0.006594131223211342\n",
      "ASIN: B01M7VOJFW, Size: 139, Probability: 0.006547030285902689\n",
      "ASIN: B007T356BO, Size: 136, Probability: 0.006405727473976732\n",
      "ASIN: B00PBIJHQY, Size: 136, Probability: 0.006405727473976732\n",
      "ASIN: B01G8JO5F2, Size: 134, Probability: 0.006311525599359428\n",
      "ASIN: B004OVECU0, Size: 133, Probability: 0.006264424662050775\n",
      "ASIN: B06XX29S9Q, Size: 132, Probability: 0.0062173237247421225\n",
      "ASIN: B088PZR86K, Size: 132, Probability: 0.0062173237247421225\n",
      "ASIN: B09472VM57, Size: 131, Probability: 0.0061702227874334695\n",
      "ASIN: B074CPK9SB, Size: 131, Probability: 0.0061702227874334695\n",
      "ASIN: B0935ZDCYD, Size: 131, Probability: 0.0061702227874334695\n",
      "ASIN: B06XHWWJRW, Size: 129, Probability: 0.006076020912816165\n",
      "ASIN: B092HSPZJ3, Size: 128, Probability: 0.006028919975507512\n",
      "ASIN: B0001FTVEK, Size: 126, Probability: 0.005934718100890208\n",
      "ASIN: B089PMMT1X, Size: 126, Probability: 0.005934718100890208\n",
      "ASIN: B0BZLBL1L9, Size: 125, Probability: 0.005887617163581555\n",
      "ASIN: B07P16JC5W, Size: 125, Probability: 0.005887617163581555\n",
      "ASIN: B07VTK654B, Size: 125, Probability: 0.005887617163581555\n",
      "ASIN: B01M3ULMWP, Size: 123, Probability: 0.005793415288964251\n",
      "ASIN: B00EZMZULI, Size: 123, Probability: 0.005793415288964251\n",
      "ASIN: B0BZ5KPQZK, Size: 122, Probability: 0.005746314351655598\n",
      "ASIN: B07BX4X77P, Size: 122, Probability: 0.005746314351655598\n",
      "ASIN: B006GWO5WK, Size: 122, Probability: 0.005746314351655598\n",
      "ASIN: B09N42GVF7, Size: 120, Probability: 0.005652112477038293\n"
     ]
    }
   ],
   "source": [
    "# Query all popular items\n",
    "popular_items = session.query(PopularItem).all()\n",
    "for item in popular_items:\n",
    "    print(f\"ASIN: {item.product_asin}, Size: {item.size}, Probability: {item.prob}\")"
   ]
  },
  {
   "cell_type": "code",
   "execution_count": 10,
   "id": "b30c9252",
   "metadata": {},
   "outputs": [
    {
     "data": {
      "text/plain": [
       "0.007583250906693043"
      ]
     },
     "execution_count": 10,
     "metadata": {},
     "output_type": "execute_result"
    }
   ],
   "source": [
    "# Query all popular items\n",
    "popular_items = session.query(PopularItem).filter(PopularItem.product_asin == \"B006JH8T3S\").all()\n",
    "popular_items[0].prob"
   ]
  },
  {
   "cell_type": "code",
   "execution_count": 12,
   "id": "766fbe06",
   "metadata": {},
   "outputs": [
    {
     "data": {
      "text/plain": [
       "0.007583250906693043"
      ]
     },
     "execution_count": 12,
     "metadata": {},
     "output_type": "execute_result"
    }
   ],
   "source": [
    "# Another way to query\n",
    "orm = session.get(PopularItem, \"B006JH8T3S\")\n",
    "orm.prob"
   ]
  },
  {
   "cell_type": "markdown",
   "id": "e614e74c",
   "metadata": {},
   "source": [
    "Ref:\n",
    "- https://www.linkedin.com/pulse/why-big-data-systems-dont-enforce-primary-keys-what-you-mushtaq-ni5mc/"
   ]
  }
 ],
 "metadata": {
  "kernelspec": {
   "display_name": "fswe",
   "language": "python",
   "name": "python3"
  },
  "language_info": {
   "codemirror_mode": {
    "name": "ipython",
    "version": 3
   },
   "file_extension": ".py",
   "mimetype": "text/x-python",
   "name": "python",
   "nbconvert_exporter": "python",
   "pygments_lexer": "ipython3",
   "version": "3.13.0"
  }
 },
 "nbformat": 4,
 "nbformat_minor": 5
}
