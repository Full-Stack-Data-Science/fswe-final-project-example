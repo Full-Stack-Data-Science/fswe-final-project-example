{
 "cells": [
  {
   "cell_type": "code",
   "execution_count": 1,
   "id": "83d73bdf",
   "metadata": {},
   "outputs": [],
   "source": [
    "from pydantic import BaseModel"
   ]
  },
  {
   "cell_type": "code",
   "execution_count": 2,
   "id": "d0cfa5b1",
   "metadata": {},
   "outputs": [],
   "source": [
    "class Item(BaseModel):\n",
    "    name: str\n",
    "    description: str | None = None\n",
    "    price: float\n",
    "    tax: float | None = None\n",
    "\n",
    "\n",
    "class Order(BaseModel):\n",
    "    id: int\n",
    "    items: list[Item]\n",
    "    total: float | None = None"
   ]
  },
  {
   "cell_type": "code",
   "execution_count": 3,
   "id": "d0b4019b",
   "metadata": {},
   "outputs": [
    {
     "name": "stdout",
     "output_type": "stream",
     "text": [
      "{\"id\":123,\"items\":[{\"name\":\"Foo\",\"description\":null,\"price\":50.2,\"tax\":null},{\"name\":\"Bar\",\"description\":\"The Bar fighters\",\"price\":62.0,\"tax\":null}],\"total\":100.2}\n"
     ]
    }
   ],
   "source": [
    "item1 = Item(name=\"Foo\", price=50.2)\n",
    "item2 = Item(name=\"Bar\", price=62, description=\"The Bar fighters\")\n",
    "order = Order(id=123, items=[item1, item2], total=100.2)\n",
    "print(order.model_dump_json())"
   ]
  },
  {
   "cell_type": "code",
   "execution_count": null,
   "id": "849132fe",
   "metadata": {},
   "outputs": [],
   "source": [
    "# Still valid\n",
    "\n",
    "items = [\n",
    "    {\"name\": \"Foo\", \"price\": 50.2},\n",
    "    {\"name\": \"Bar\", \"description\": \"The Bar fighters\", \"price\": 62.0},\n",
    "]\n",
    "order = Order(id=123, items=items, total=100.2)"
   ]
  },
  {
   "cell_type": "code",
   "execution_count": 13,
   "id": "a076aca3",
   "metadata": {},
   "outputs": [
    {
     "data": {
      "text/plain": [
       "Order(id=123, items=[Item(name='Foo', description=None, price=50.2, tax=None), Item(name='Bar', description='The Bar fighters', price=62.0, tax=None)], total=100.2)"
      ]
     },
     "execution_count": 13,
     "metadata": {},
     "output_type": "execute_result"
    }
   ],
   "source": [
    "response = {\n",
    "    \"id\": 123,\n",
    "    \"items\": [\n",
    "        {\"name\": \"Foo\", \"price\": 50.2},\n",
    "        {\"name\": \"Bar\", \"description\": \"The Bar fighters\", \"price\": 62.0},\n",
    "    ],\n",
    "    \"total\": 100.2,\n",
    "}\n",
    "\n",
    "order = Order.model_validate(response)  # still valid\n",
    "\n",
    "order"
   ]
  },
  {
   "cell_type": "code",
   "execution_count": null,
   "id": "5e440237",
   "metadata": {},
   "outputs": [],
   "source": []
  }
 ],
 "metadata": {
  "kernelspec": {
   "display_name": "fswe",
   "language": "python",
   "name": "python3"
  },
  "language_info": {
   "codemirror_mode": {
    "name": "ipython",
    "version": 3
   },
   "file_extension": ".py",
   "mimetype": "text/x-python",
   "name": "python",
   "nbconvert_exporter": "python",
   "pygments_lexer": "ipython3",
   "version": "3.13.0"
  }
 },
 "nbformat": 4,
 "nbformat_minor": 5
}
